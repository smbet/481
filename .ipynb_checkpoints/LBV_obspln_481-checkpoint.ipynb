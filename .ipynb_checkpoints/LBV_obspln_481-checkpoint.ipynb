{
 "cells": [
  {
   "cell_type": "code",
   "execution_count": 1,
   "metadata": {},
   "outputs": [],
   "source": [
    "%matplotlib inline\n",
    "\n",
    "import numpy as np\n",
    "import matplotlib.pylab as plt\n",
    "\n",
    "import pytz\n",
    "\n",
    "import astropy.units as u\n",
    "from astropy.time import Time\n",
    "from astropy.coordinates import SkyCoord\n",
    "from astropy.coordinates import get_sun, get_body, get_moon\n",
    "from astroplan import Observer, FixedTarget, time_grid_from_range, observability_table, moon_illumination\n",
    "from astroplan import AirmassConstraint, MoonSeparationConstraint"
   ]
  },
  {
   "cell_type": "code",
   "execution_count": 2,
   "metadata": {},
   "outputs": [
    {
     "data": {
      "text/plain": [
       "<Observer: name='mro',\n",
       "    location (lon, lat, el)=(-120.7278 deg, 46.952799999999996 deg, 1197.9999999998224 m),\n",
       "    timezone=<UTC>>"
      ]
     },
     "execution_count": 2,
     "metadata": {},
     "output_type": "execute_result"
    }
   ],
   "source": [
    "mro = Observer.at_site('mro')\n",
    "mro"
   ]
  },
  {
   "cell_type": "code",
   "execution_count": 3,
   "metadata": {},
   "outputs": [],
   "source": [
    "reference_time = Time('2018-6-30')"
   ]
  },
  {
   "cell_type": "markdown",
   "metadata": {},
   "source": [
    "# First: moon stuff"
   ]
  },
  {
   "cell_type": "code",
   "execution_count": 4,
   "metadata": {},
   "outputs": [
    {
     "name": "stdout",
     "output_type": "stream",
     "text": [
      "On the night of the 30th, the moon phase will be 0.34 rad, meaning 97.13% illumination. Flux me.\n"
     ]
    }
   ],
   "source": [
    "print('On the night of the 30th, the moon phase will be {0:.2f}, meaning {1:.2f}% illumination. Flux me.'.format(\n",
    "      mro.moon_phase(reference_time), mro.moon_illumination(reference_time)*100))"
   ]
  },
  {
   "cell_type": "markdown",
   "metadata": {},
   "source": [
    "# Now on to the actual observation planning (which looks only marginally better than the last time I tried this, in late April):"
   ]
  },
  {
   "cell_type": "code",
   "execution_count": 5,
   "metadata": {},
   "outputs": [],
   "source": [
    "tz = mro.timezone"
   ]
  },
  {
   "cell_type": "code",
   "execution_count": 6,
   "metadata": {},
   "outputs": [],
   "source": [
    "constraints = [MoonSeparationConstraint(50*u.deg)]\n",
    "constraints.append(AirmassConstraint(2))"
   ]
  },
  {
   "cell_type": "code",
   "execution_count": 7,
   "metadata": {},
   "outputs": [
    {
     "name": "stdout",
     "output_type": "stream",
     "text": [
      "Astronomical Evening Twilight starts at 2018-06-30 06:54:09.511 UTC\n",
      "Astronomical Morning Twilight starts at 2018-06-30 09:19:02.472 UTC\n",
      "You can observe for 2.4 h during the observing window.\n"
     ]
    }
   ],
   "source": [
    "astro_set1 = mro.twilight_evening_astronomical(reference_time, which='nearest')\n",
    "astro_rise1 = mro.twilight_morning_astronomical(reference_time, which='next')\n",
    "observing_length1 = (astro_rise1 - astro_set1).to(u.h)\n",
    "\n",
    "print(\"Astronomical Evening Twilight starts at {0.iso} UTC\".format(astro_set1))\n",
    "print(\"Astronomical Morning Twilight starts at {0.iso} UTC\".format(astro_rise1))\n",
    "print(\"You can observe for {0:.1f} during the observing window.\".format(observing_length1))\n",
    "\n",
    "# aw flux"
   ]
  },
  {
   "cell_type": "code",
   "execution_count": 8,
   "metadata": {},
   "outputs": [],
   "source": [
    "obs_range = [astro_set1, astro_rise1]"
   ]
  },
  {
   "cell_type": "code",
   "execution_count": 9,
   "metadata": {},
   "outputs": [],
   "source": [
    "northern_LBV_targets = [['VI Cyg 12', 20.5447, 41.2415],\n",
    "['GRS 79.29+0.46', 20.5284, 40.366425], \n",
    "['MWC 314', 19.359436, 14.88246944],\n",
    "['[OMN2000] LS1', 19.3966, 14.6107],\n",
    "['2MASS J19325284+1742303', 19.548014, 17.708425], \n",
    "['2MASS J19443759+2419058c', 19.74378, 24.3182972],\n",
    "['2MASS J19011669+0355108', 19.021303, 3.91967], \n",
    "['MN101', 19.10682, 8.3671],\n",
    "['MN107', 19.40093, 13.66372],\n",
    "['P Cyg', 20.29644, 38.0329306],\n",
    "['AFGL 2298', 19.003025, 3.763083]]"
   ]
  },
  {
   "cell_type": "code",
   "execution_count": 10,
   "metadata": {},
   "outputs": [],
   "source": [
    "ntargets = [FixedTarget(coord=SkyCoord(ra = RA*u.hourangle, dec = DEC*u.deg), name=Name)\n",
    "           for Name, RA, DEC in northern_LBV_targets]"
   ]
  },
  {
   "cell_type": "code",
   "execution_count": 11,
   "metadata": {},
   "outputs": [
    {
     "name": "stdout",
     "output_type": "stream",
     "text": [
      "      target name        ever observable ... fraction of time observable\n",
      "------------------------ --------------- ... ---------------------------\n",
      "               VI Cyg 12            True ...                         1.0\n",
      "          GRS 79.29+0.46            True ...                         1.0\n",
      "                 MWC 314           False ...                         0.0\n",
      "           [OMN2000] LS1           False ...                         0.0\n",
      " 2MASS J19325284+1742303           False ...                         0.0\n",
      "2MASS J19443759+2419058c           False ...                         0.0\n",
      " 2MASS J19011669+0355108           False ...                         0.0\n",
      "                   MN101           False ...                         0.0\n",
      "                   MN107           False ...                         0.0\n",
      "                   P Cyg            True ...                         1.0\n",
      "               AFGL 2298           False ...                         0.0\n"
     ]
    }
   ],
   "source": [
    "observing_table = observability_table(constraints, mro, ntargets, time_range=obs_range)\n",
    "\n",
    "print(observing_table)"
   ]
  },
  {
   "cell_type": "code",
   "execution_count": 12,
   "metadata": {},
   "outputs": [],
   "source": [
    "# right on"
   ]
  },
  {
   "cell_type": "code",
   "execution_count": 13,
   "metadata": {},
   "outputs": [
    {
     "name": "stdout",
     "output_type": "stream",
     "text": [
      "You can observe VI Cyg 12 for 2.41 h\n",
      "You can observe GRS 79.29+0.46 for 2.41 h\n",
      "You can observe P Cyg for 2.41 h\n"
     ]
    }
   ],
   "source": [
    "for i, target_table in enumerate(ntargets):\n",
    "\n",
    "    if observing_table['ever observable'][i]:\n",
    "        name = observing_table['target name'][i]\n",
    "        obj_frac = observing_table['fraction of time observable'][i]\n",
    "        obj_time = obj_frac * observing_length1\n",
    "        output = \"You can observe {0:s} for {1:.2f}\".format(name, obj_time.to(u.h))\n",
    "        print(output)"
   ]
  },
  {
   "cell_type": "markdown",
   "metadata": {},
   "source": [
    "# Trying a few southern dec ones:"
   ]
  },
  {
   "cell_type": "code",
   "execution_count": 14,
   "metadata": {},
   "outputs": [],
   "source": [
    "southern_LBV_targets = [\n",
    "    ['GAL 024.73+00.69', 18+(33/60)+(55.29/3600), -6+(58/60)+(38.7/3600)],\n",
    "    ['HD 168625', 18+(21/60)+(19.55/3600), -16+(22/60)+(26.06/3600)],\n",
    "    ['GRS 25.5+0.2', 18+(37/60)+(5.21/3600), -6+(29/60)+(38/3600)],\n",
    "    ['GAL 026.47+00.02', 18+(39/60)+(32.24/3600), -5+(44/60)+(20.5/3600)],\n",
    "    ['2MASS J18022233-2238002', 18+2/60+22.34/3600, -22+38/60+00.24/3600],\n",
    "    ['2MASS J18455593-0308297', 18+45/60+55.94/3600, -3+8/60+29.72/3600],\n",
    "    ['2MASS J18510295-0058242', 18+51/60+2.95/3600, -0+58/60+24.21/3600],\n",
    "    ['MN83', 18+39/3600+23.01/3600, -5+53/60+19.9/3600],\n",
    "]"
   ]
  },
  {
   "cell_type": "code",
   "execution_count": 15,
   "metadata": {},
   "outputs": [],
   "source": [
    "stargets = [FixedTarget(coord=SkyCoord(ra = RA*u.hourangle, dec = DEC*u.deg), name=Name)\n",
    "           for Name, RA, DEC in southern_LBV_targets]"
   ]
  },
  {
   "cell_type": "code",
   "execution_count": 16,
   "metadata": {},
   "outputs": [
    {
     "name": "stdout",
     "output_type": "stream",
     "text": [
      "      target name       ever observable ... fraction of time observable\n",
      "----------------------- --------------- ... ---------------------------\n",
      "       GAL 024.73+00.69           False ...                         0.0\n",
      "              HD 168625           False ...                         0.0\n",
      "           GRS 25.5+0.2           False ...                         0.0\n",
      "       GAL 026.47+00.02           False ...                         0.0\n",
      "2MASS J18022233-2238002           False ...                         0.0\n",
      "2MASS J18455593-0308297           False ...                         0.0\n",
      "2MASS J18510295-0058242           False ...                         0.0\n",
      "                   MN83           False ...                         0.0\n"
     ]
    }
   ],
   "source": [
    "observing_table_s1 = observability_table(constraints, mro, stargets, time_range=obs_range)\n",
    "\n",
    "print(observing_table_s1)"
   ]
  },
  {
   "cell_type": "code",
   "execution_count": 17,
   "metadata": {},
   "outputs": [],
   "source": [
    "for i, target_table in enumerate(stargets):\n",
    "\n",
    "    if observing_table_s1['ever observable'][i]:\n",
    "        name = observing_table_s1['target name'][i]\n",
    "        obj_frac = observing_table_s1['fraction of time observable'][i]\n",
    "        obj_time = obj_frac * observing_length1\n",
    "        output = \"You can observe {0:s} for {1:.2f}\".format(name, obj_time.to(u.h))\n",
    "        print(output)"
   ]
  },
  {
   "cell_type": "code",
   "execution_count": 18,
   "metadata": {},
   "outputs": [],
   "source": [
    "# note: viable targets that are confirmed LBVs:\n",
    "#\n",
    "# P Cyg,\n",
    "# AFGL 2298,\n",
    "# GAL 024.73+00.69"
   ]
  },
  {
   "cell_type": "markdown",
   "metadata": {},
   "source": [
    "# For the second weekend:"
   ]
  },
  {
   "cell_type": "code",
   "execution_count": 19,
   "metadata": {},
   "outputs": [],
   "source": [
    "second_reference_time = Time('2018-7-21')"
   ]
  },
  {
   "cell_type": "markdown",
   "metadata": {},
   "source": [
    "# Making sure that lucky old moon doesn't interfere again:"
   ]
  },
  {
   "cell_type": "code",
   "execution_count": 20,
   "metadata": {},
   "outputs": [
    {
     "name": "stdout",
     "output_type": "stream",
     "text": [
      "On the night of the 15th, the moon phase will be 1.33 rad, meaning 62.15% illumination. Okay that's\n",
      "    not great, but better than first weekend.\n"
     ]
    }
   ],
   "source": [
    "print(\n",
    "    '''On the night of the 15th, the moon phase will be {0:.2f}, meaning {1:.2f}% illumination. Okay that's\n",
    "    not great, but better than first weekend.'''\n",
    "    .format(\n",
    "    mro.moon_phase(second_reference_time), mro.moon_illumination(second_reference_time)*100)\n",
    ")"
   ]
  },
  {
   "cell_type": "code",
   "execution_count": 21,
   "metadata": {},
   "outputs": [],
   "source": [
    "constraints2 = [MoonSeparationConstraint(40*u.deg)]\n",
    "constraints2.append(AirmassConstraint(2))"
   ]
  },
  {
   "cell_type": "code",
   "execution_count": 22,
   "metadata": {},
   "outputs": [
    {
     "name": "stdout",
     "output_type": "stream",
     "text": [
      "Astronomical Evening Twilight starts at 2018-07-21 06:17:13.353 UTC\n",
      "Astronomical Morning Twilight starts at 2018-07-21 10:01:44.673 UTC\n",
      "You can observe for 3.7 h during the observing window.\n"
     ]
    }
   ],
   "source": [
    "astro_set2 = mro.twilight_evening_astronomical(second_reference_time, which='nearest')\n",
    "astro_rise2 = mro.twilight_morning_astronomical(second_reference_time, which='next')\n",
    "observing_length2 = (astro_rise2 - astro_set2).to(u.h)\n",
    "\n",
    "print(\"Astronomical Evening Twilight starts at {0.iso} UTC\".format(astro_set2))\n",
    "print(\"Astronomical Morning Twilight starts at {0.iso} UTC\".format(astro_rise2))\n",
    "print(\"You can observe for {0:.1f} during the observing window.\".format(observing_length2))"
   ]
  },
  {
   "cell_type": "code",
   "execution_count": 23,
   "metadata": {},
   "outputs": [],
   "source": [
    "# that's a bit longer, at least"
   ]
  },
  {
   "cell_type": "code",
   "execution_count": 24,
   "metadata": {},
   "outputs": [],
   "source": [
    "obs_range2 = [astro_set2, astro_rise2]"
   ]
  },
  {
   "cell_type": "markdown",
   "metadata": {},
   "source": [
    "# Night 2 - North:"
   ]
  },
  {
   "cell_type": "code",
   "execution_count": 25,
   "metadata": {},
   "outputs": [
    {
     "name": "stdout",
     "output_type": "stream",
     "text": [
      "      target name        ever observable ... fraction of time observable\n",
      "------------------------ --------------- ... ---------------------------\n",
      "               VI Cyg 12            True ...                         1.0\n",
      "          GRS 79.29+0.46            True ...                         1.0\n",
      "                 MWC 314            True ...                         1.0\n",
      "           [OMN2000] LS1            True ...                         1.0\n",
      " 2MASS J19325284+1742303            True ...                         1.0\n",
      "2MASS J19443759+2419058c            True ...                         1.0\n",
      " 2MASS J19011669+0355108            True ...                         1.0\n",
      "                   MN101            True ...                         1.0\n",
      "                   MN107            True ...                         1.0\n",
      "                   P Cyg            True ...                         1.0\n",
      "               AFGL 2298            True ...                         1.0\n"
     ]
    }
   ],
   "source": [
    "observing_table_n2 = observability_table(constraints2, mro, ntargets, time_range=obs_range2)\n",
    "\n",
    "print(observing_table_n2)"
   ]
  },
  {
   "cell_type": "code",
   "execution_count": 26,
   "metadata": {},
   "outputs": [
    {
     "name": "stdout",
     "output_type": "stream",
     "text": [
      "You can observe VI Cyg 12 for 3.74 h\n",
      "You can observe GRS 79.29+0.46 for 3.74 h\n",
      "You can observe MWC 314 for 3.74 h\n",
      "You can observe [OMN2000] LS1 for 3.74 h\n",
      "You can observe 2MASS J19325284+1742303 for 3.74 h\n",
      "You can observe 2MASS J19443759+2419058c for 3.74 h\n",
      "You can observe 2MASS J19011669+0355108 for 3.74 h\n",
      "You can observe MN101 for 3.74 h\n",
      "You can observe MN107 for 3.74 h\n",
      "You can observe P Cyg for 3.74 h\n",
      "You can observe AFGL 2298 for 3.74 h\n"
     ]
    }
   ],
   "source": [
    "for i, target_table in enumerate(ntargets):\n",
    "\n",
    "    if observing_table_n2['ever observable'][i]:\n",
    "        name = observing_table_n2['target name'][i]\n",
    "        obj_frac = observing_table_n2['fraction of time observable'][i]\n",
    "        obj_time = obj_frac * observing_length2\n",
    "        output = \"You can observe {0:s} for {1:.2f}\".format(name, obj_time.to(u.h))\n",
    "        print(output)"
   ]
  },
  {
   "cell_type": "markdown",
   "metadata": {},
   "source": [
    "# Now for Night 2 - South:"
   ]
  },
  {
   "cell_type": "code",
   "execution_count": 27,
   "metadata": {
    "scrolled": true
   },
   "outputs": [
    {
     "name": "stdout",
     "output_type": "stream",
     "text": [
      "      target name       ever observable ... fraction of time observable\n",
      "----------------------- --------------- ... ---------------------------\n",
      "       GAL 024.73+00.69            True ...                        0.75\n",
      "              HD 168625           False ...                         0.0\n",
      "           GRS 25.5+0.2            True ...                        0.75\n",
      "       GAL 026.47+00.02            True ...                        0.75\n",
      "2MASS J18022233-2238002           False ...                         0.0\n",
      "2MASS J18455593-0308297            True ...                       0.875\n",
      "2MASS J18510295-0058242            True ...                         1.0\n",
      "                   MN83            True ...                       0.625\n"
     ]
    }
   ],
   "source": [
    "observing_table_s2 = observability_table(constraints2, mro, stargets, time_range=obs_range2)\n",
    "\n",
    "print(observing_table_s2)"
   ]
  },
  {
   "cell_type": "code",
   "execution_count": 28,
   "metadata": {},
   "outputs": [
    {
     "name": "stdout",
     "output_type": "stream",
     "text": [
      "You can observe GAL 024.73+00.69 for 2.81 h\n",
      "You can observe GRS 25.5+0.2 for 2.81 h\n",
      "You can observe GAL 026.47+00.02 for 2.81 h\n",
      "You can observe 2MASS J18455593-0308297 for 3.27 h\n",
      "You can observe 2MASS J18510295-0058242 for 3.74 h\n",
      "You can observe MN83 for 2.34 h\n"
     ]
    }
   ],
   "source": [
    "for i, target_table in enumerate(stargets):\n",
    "\n",
    "    if observing_table_s2['ever observable'][i]:\n",
    "        name = observing_table_s2['target name'][i]\n",
    "        obj_frac = observing_table_s2['fraction of time observable'][i]\n",
    "        obj_time = obj_frac * observing_length2\n",
    "        output = \"You can observe {0:s} for {1:.2f}\".format(name, obj_time.to(u.h))\n",
    "        print(output)"
   ]
  }
 ],
 "metadata": {
  "kernelspec": {
   "display_name": "Python 3",
   "language": "python",
   "name": "python3"
  },
  "language_info": {
   "codemirror_mode": {
    "name": "ipython",
    "version": 3
   },
   "file_extension": ".py",
   "mimetype": "text/x-python",
   "name": "python",
   "nbconvert_exporter": "python",
   "pygments_lexer": "ipython3",
   "version": "3.6.4"
  }
 },
 "nbformat": 4,
 "nbformat_minor": 2
}
