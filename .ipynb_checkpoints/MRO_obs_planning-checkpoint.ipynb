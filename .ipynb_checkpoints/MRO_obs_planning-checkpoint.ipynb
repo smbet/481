{
 "cells": [
  {
   "cell_type": "code",
   "execution_count": 27,
   "metadata": {},
   "outputs": [],
   "source": [
    "%matplotlib inline\n",
    "\n",
    "import numpy as np\n",
    "import matplotlib.pylab as plt\n",
    "\n",
    "import pytz\n",
    "\n",
    "import astropy.units as u\n",
    "from astropy.time import Time\n",
    "from astropy.coordinates import SkyCoord\n",
    "from astropy.coordinates import get_sun, get_body, get_moon\n",
    "from astroplan import Observer, FixedTarget, time_grid_from_range, observability_table, moon_illumination\n",
    "from astroplan import AirmassConstraint, MoonSeparationConstraint"
   ]
  },
  {
   "cell_type": "code",
   "execution_count": 28,
   "metadata": {},
   "outputs": [
    {
     "data": {
      "text/plain": [
       "<Observer: name='mro',\n",
       "    location (lon, lat, el)=(-120.7278 deg, 46.952799999999996 deg, 1197.9999999998224 m),\n",
       "    timezone=<UTC>>"
      ]
     },
     "execution_count": 28,
     "metadata": {},
     "output_type": "execute_result"
    }
   ],
   "source": [
    "mro = Observer.at_site('mro')\n",
    "mro"
   ]
  },
  {
   "cell_type": "markdown",
   "metadata": {},
   "source": [
    "# Night 1:"
   ]
  },
  {
   "cell_type": "code",
   "execution_count": 29,
   "metadata": {},
   "outputs": [],
   "source": [
    "reference_time = Time('2018-6-30')"
   ]
  },
  {
   "cell_type": "code",
   "execution_count": 30,
   "metadata": {},
   "outputs": [
    {
     "name": "stdout",
     "output_type": "stream",
     "text": [
      "On the night of the 30th, the moon phase will be 0.34 rad, meaning 97.13% illumination. Flux me.\n"
     ]
    }
   ],
   "source": [
    "# Moon Phase & Illumination:\n",
    "\n",
    "print('On the night of the 30th, the moon phase will be {0:.2f}, meaning {1:.2f}% illumination. Flux me.'.format(\n",
    "      mro.moon_phase(reference_time), mro.moon_illumination(reference_time)*100))"
   ]
  },
  {
   "cell_type": "code",
   "execution_count": 31,
   "metadata": {},
   "outputs": [
    {
     "name": "stdout",
     "output_type": "stream",
     "text": [
      "2018-06-29 22:15:09.199\n",
      "2018-06-30 07:24:40.270\n"
     ]
    }
   ],
   "source": [
    "# Moon rise and set times:\n",
    "\n",
    "moonrise1 = mro.moon_rise_time(reference_time, which='nearest')\n",
    "moonset1 = mro.moon_set_time(reference_time, which='next')\n",
    "\n",
    "print('{0.iso}'.format(moonrise1-7*u.hr))\n",
    "print('{0.iso}'.format(moonset1-7*u.hr))"
   ]
  },
  {
   "cell_type": "code",
   "execution_count": 32,
   "metadata": {},
   "outputs": [],
   "source": [
    "# uncomment if need to do stuff with targets:\n",
    "\n",
    "#constraints = [MoonSeparationConstraint(50*u.deg)]\n",
    "#constraints.append(AirmassConstraint(2))"
   ]
  },
  {
   "cell_type": "code",
   "execution_count": 33,
   "metadata": {},
   "outputs": [
    {
     "name": "stdout",
     "output_type": "stream",
     "text": [
      "Sunset is at at 2018-06-29 20:55:37.094 UTC\n",
      "Sunrise is at 2018-06-30 05:17:35.565 UTC\n",
      "You can observe for 8.4 h during the observing window.\n"
     ]
    }
   ],
   "source": [
    "# Sunrise and set times:\n",
    "\n",
    "astro_set_long = mro.sun_set_time(reference_time, which='nearest')\n",
    "astro_rise_long = mro.sun_rise_time(reference_time, which='next')\n",
    "observing_length_long = (astro_rise_long - astro_set_long).to(u.h)\n",
    "\n",
    "print(\"Sunset is at at {0.iso} UTC\".format(astro_set_long-7*u.hr))\n",
    "print(\"Sunrise is at {0.iso} UTC\".format(astro_rise_long-7*u.hr))\n",
    "print(\"You can observe for {0:.1f} during the observing window.\".format(observing_length_long))"
   ]
  },
  {
   "cell_type": "markdown",
   "metadata": {},
   "source": [
    "# Nacht Dos:"
   ]
  },
  {
   "cell_type": "code",
   "execution_count": 34,
   "metadata": {},
   "outputs": [],
   "source": [
    "reference_time2 = Time('2018-7-1')"
   ]
  },
  {
   "cell_type": "code",
   "execution_count": 35,
   "metadata": {},
   "outputs": [
    {
     "name": "stdout",
     "output_type": "stream",
     "text": [
      "\n",
      "      On the night of the 30th, the moon phase will be 0.53 rad, meaning 93.17% illumination. Flux me slightly less.\n",
      "      \n"
     ]
    }
   ],
   "source": [
    "# Moon phase and illumination:\n",
    "\n",
    "print('''\n",
    "      On the night of the 30th, the moon phase will be {0:.2f}, meaning {1:.2f}% illumination. Flux me slightly less.\n",
    "      '''.format(\n",
    "      mro.moon_phase(reference_time2), mro.moon_illumination(reference_time2)*100))"
   ]
  },
  {
   "cell_type": "code",
   "execution_count": 36,
   "metadata": {},
   "outputs": [
    {
     "name": "stdout",
     "output_type": "stream",
     "text": [
      "2018-06-30 22:51:39.342\n",
      "2018-07-01 08:23:06.627\n"
     ]
    }
   ],
   "source": [
    "# Moon rise and set times:\n",
    "\n",
    "moonrise2 = mro.moon_rise_time(reference_time2, which='nearest')\n",
    "moonset2 = mro.moon_set_time(reference_time2, which='next')\n",
    "\n",
    "print('{0.iso}'.format(moonrise2-7*u.hr))\n",
    "print('{0.iso}'.format(moonset2-7*u.hr))"
   ]
  },
  {
   "cell_type": "code",
   "execution_count": 37,
   "metadata": {},
   "outputs": [
    {
     "name": "stdout",
     "output_type": "stream",
     "text": [
      "Sunset is at at 2018-06-30 20:55:27.153 UTC\n",
      "Sunrise is at 2018-07-01 05:18:09.452 UTC\n",
      "You can observe for 8.4 h during the observing window.\n"
     ]
    }
   ],
   "source": [
    "# Sunrise and set times:\n",
    "\n",
    "astro_set_long2 = mro.sun_set_time(reference_time2, which='nearest')\n",
    "astro_rise_long2 = mro.sun_rise_time(reference_time2, which='next')\n",
    "observing_length_long2 = (astro_rise_long2 - astro_set_long2).to(u.h)\n",
    "\n",
    "print(\"Sunset is at at {0.iso} UTC\".format(astro_set_long2-7*u.hr))\n",
    "print(\"Sunrise is at {0.iso} UTC\".format(astro_rise_long2-7*u.hr))\n",
    "print(\"You can observe for {0:.1f} during the observing window.\".format(observing_length_long2))"
   ]
  },
  {
   "cell_type": "code",
   "execution_count": null,
   "metadata": {},
   "outputs": [],
   "source": []
  }
 ],
 "metadata": {
  "kernelspec": {
   "display_name": "Python 3",
   "language": "python",
   "name": "python3"
  },
  "language_info": {
   "codemirror_mode": {
    "name": "ipython",
    "version": 3
   },
   "file_extension": ".py",
   "mimetype": "text/x-python",
   "name": "python",
   "nbconvert_exporter": "python",
   "pygments_lexer": "ipython3",
   "version": "3.6.4"
  }
 },
 "nbformat": 4,
 "nbformat_minor": 2
}
