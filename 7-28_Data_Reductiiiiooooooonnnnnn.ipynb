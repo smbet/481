{
 "cells": [
  {
   "cell_type": "markdown",
   "metadata": {},
   "source": [
    "%matplotlib inline\n",
    "\n",
    "import numpy as np\n",
    "import matplotlib.pylab as plt\n",
    "import astropy.io.fits as fits\n",
    "\n",
    "import glob\n",
    "\n",
    "import os\n",
    "\n",
    "from photutils.aperture import CircularAperture\n",
    "from photutils.aperture import CircularAnnulus\n",
    "from photutils import aperture_photometry\n",
    "\n",
    "from sklearn.preprocessing import normalize\n",
    "\n",
    "from matplotlib.colors import LogNorm"
   ]
  },
  {
   "cell_type": "markdown",
   "metadata": {},
   "source": [
    "# Start with biases:"
   ]
  },
  {
   "cell_type": "code",
   "execution_count": 29,
   "metadata": {},
   "outputs": [],
   "source": [
    "bias_filepath = glob.glob('./obsdata/night12/*bias*.fits')"
   ]
  },
  {
   "cell_type": "code",
   "execution_count": 32,
   "metadata": {},
   "outputs": [
    {
     "name": "stdout",
     "output_type": "stream",
     "text": [
      "6-28_bias_01.fits\n",
      "6_28_bias_01.fits\n",
      "6_28_bias_02.fits\n",
      "6_28_bias_03.fits\n",
      "6_28_bias_04.fits\n",
      "6_28_bias_05.fits\n",
      "6_28_bias_06.fits\n",
      "6_28_bias_07.fits\n",
      "6_28_bias_08.fits\n",
      "7-28_bias_01.fits\n",
      "7-28_bias_02.fits\n"
     ]
    },
    {
     "data": {
      "text/plain": [
       "SIMPLE  =                    T / conforms to FITS standard                      \n",
       "BITPIX  =                   16 / array data type                                \n",
       "NAXIS   =                    2 / number of array dimensions                     \n",
       "NAXIS1  =                  512                                                  \n",
       "NAXIS2  =                  512                                                  \n",
       "DATE-OBS= '2018-06-29T02:15:09' / Time at start of exposure                     \n",
       "UT      = '02:15:09'           / UT time at start of exposure                   \n",
       "OBSERVAT= 'mro     '           / per the iraf list                              \n",
       "IMAGETYP= 'bias    '                                                            \n",
       "FILTER  = 'Ha      '                                                            \n",
       "BINX    =                    2 / Horizontal Binning                             \n",
       "BINY    =                    2 / Vertical Binning                               \n",
       "EXPTIME =                  0.0 / Total exposure time                            \n",
       "ACQMODE = 'Single Scan'        / Acquisition mode                               \n",
       "READMODE= 'Image   '           / Readout mode                                   \n",
       "INSTRUME= 'evora   '           / Instrument used for imaging                    \n",
       "LONGITUD=        120.744466667 / Decimal degrees of MRO latitude                \n",
       "LATITUDE=              46.9528 / Decimal degress of MRO longitude               \n",
       "TEMP    =   -81.19400024414062 / Temperature                                    \n",
       "READTIME=    5.755980014801025 / Pixel readout time                             \n",
       "RA      =              12.6786 / Right Ascension                                \n",
       "DEC     =             -24.0917 / Declination                                    \n",
       "EPOCH   =             2018.492 / Epoch for RA and Dec (years)                   \n",
       "ST      =        12.6785888889 / local sidereal time (hours)                    \n",
       "HA      = -1.1111099999183E-05 / Hour Angle                                     \n",
       "ZD      =              71.0429 / Zenith Angle                                   \n",
       "AIRMASS =    3.078248051719525 / Airmass (X = sec z)                            \n",
       "JD      = '2458298.59385'      / Julian Date                                    \n",
       "MJD     = '58298.0938542'      / Modified Julian Date                           \n",
       "BSCALE  =                    1                                                  \n",
       "BZERO   =                32768                                                  "
      ]
     },
     "execution_count": 32,
     "metadata": {},
     "output_type": "execute_result"
    }
   ],
   "source": [
    "# getting headers + data for biases frames, making a \"master bias\" at the same time:\n",
    "\n",
    "bias_data_array = []\n",
    "bias_header_array = []\n",
    "bias_avgs = []\n",
    "\n",
    "for file in bias_filepath:\n",
    "\n",
    "    hdu = fits.open(file)\n",
    "    bias_data_array.append(hdu[0].data.copy())\n",
    "    bias_header_array.append(hdu[0].header.copy())\n",
    "    print(os.path.basename(file))\n",
    "    \n",
    "    # master bias stuff:\n",
    "    \n",
    "    bdata = fits.getdata(file)\n",
    "    bias_avgs.append(np.mean(bdata))\n",
    "    \n",
    "super_bias = np.mean(bias_avgs)\n",
    "\n",
    "hdu.close()    \n",
    "bias_header_array[0]"
   ]
  },
  {
   "cell_type": "markdown",
   "metadata": {},
   "source": [
    "# Flats:"
   ]
  },
  {
   "cell_type": "code",
   "execution_count": 33,
   "metadata": {},
   "outputs": [],
   "source": [
    "skyflat_filepath = glob.glob('./obsdata/night12/*skyflat*.fits')"
   ]
  },
  {
   "cell_type": "code",
   "execution_count": 34,
   "metadata": {},
   "outputs": [
    {
     "name": "stdout",
     "output_type": "stream",
     "text": [
      "skyflat_g_mean1.fits\n",
      "skyflat_g_mean10.fits\n",
      "skyflat_g_mean11.fits\n",
      "skyflat_g_mean12.fits\n",
      "skyflat_g_mean2.fits\n",
      "skyflat_g_mean3.fits\n",
      "skyflat_g_mean4.fits\n",
      "skyflat_g_mean5.fits\n",
      "skyflat_g_mean6.fits\n",
      "skyflat_g_mean7.fits\n",
      "skyflat_g_mean8.fits\n",
      "skyflat_g_mean9.fits\n",
      "skyflat_i_mean1.fits\n",
      "skyflat_i_mean10.fits\n",
      "skyflat_i_mean11.fits\n",
      "skyflat_i_mean12.fits\n",
      "skyflat_i_mean13.fits\n",
      "skyflat_i_mean14.fits\n",
      "skyflat_i_mean15.fits\n",
      "skyflat_i_mean16.fits\n",
      "skyflat_i_mean17.fits\n",
      "skyflat_i_mean18.fits\n",
      "skyflat_i_mean19.fits\n",
      "skyflat_i_mean2.fits\n",
      "skyflat_i_mean20.fits\n",
      "skyflat_i_mean3.fits\n",
      "skyflat_i_mean4.fits\n",
      "skyflat_i_mean5.fits\n",
      "skyflat_i_mean6.fits\n",
      "skyflat_i_mean7.fits\n",
      "skyflat_i_mean8.fits\n",
      "skyflat_i_mean9.fits\n",
      "skyflat_r_mean1.fits\n",
      "skyflat_r_mean10.fits\n",
      "skyflat_r_mean11.fits\n",
      "skyflat_r_mean12.fits\n",
      "skyflat_r_mean13.fits\n",
      "skyflat_r_mean3.fits\n",
      "skyflat_r_mean4.fits\n",
      "skyflat_r_mean5.fits\n",
      "skyflat_r_mean6.fits\n",
      "skyflat_r_mean7.fits\n",
      "skyflat_r_mean8.fits\n",
      "skyflat_r_mean9.fits\n"
     ]
    },
    {
     "data": {
      "text/plain": [
       "SIMPLE  =                    T / conforms to FITS standard                      \n",
       "BITPIX  =                   16 / array data type                                \n",
       "NAXIS   =                    2 / number of array dimensions                     \n",
       "NAXIS1  =                  512                                                  \n",
       "NAXIS2  =                  512                                                  \n",
       "DATE-OBS= '2018-06-29T04:10:11' / Time at start of exposure                     \n",
       "UT      = '04:10:11'           / UT time at start of exposure                   \n",
       "OBSERVAT= 'mro     '           / per the iraf list                              \n",
       "IMAGETYP= 'flat    '                                                            \n",
       "FILTER  = 'g       '                                                            \n",
       "BINX    =                    2 / Horizontal Binning                             \n",
       "BINY    =                    2 / Vertical Binning                               \n",
       "EXPTIME =                  1.0 / Total exposure time                            \n",
       "ACQMODE = 'Single Scan'        / Acquisition mode                               \n",
       "READMODE= 'Image   '           / Readout mode                                   \n",
       "INSTRUME= 'evora   '           / Instrument used for imaging                    \n",
       "LONGITUD=        120.744466667 / Decimal degrees of MRO latitude                \n",
       "LATITUDE=              46.9528 / Decimal degress of MRO longitude               \n",
       "TEMP    =   -81.19400024414062 / Temperature                                    \n",
       "READTIME=    5.765970230102539 / Pixel readout time                             \n",
       "RA      =              14.3916 / Right Ascension                                \n",
       "DEC     =    8.056139999999999 / Declination                                    \n",
       "EPOCH   =             2018.492 / Epoch for RA and Dec (years)                   \n",
       "ST      =        14.6008361111 / local sidereal time (hours)                    \n",
       "HA      =   0.2092361110999992 / Hour Angle                                     \n",
       "ZD      =               38.895 / Zenith Angle                                   \n",
       "AIRMASS =    1.284854991014734 / Airmass (X = sec z)                            \n",
       "JD      = '2458298.67374'      / Julian Date                                    \n",
       "MJD     = '58298.1737384'      / Modified Julian Date                           \n",
       "BSCALE  =                    1                                                  \n",
       "BZERO   =                32768                                                  "
      ]
     },
     "execution_count": 34,
     "metadata": {},
     "output_type": "execute_result"
    }
   ],
   "source": [
    "sflat_data_array = []\n",
    "sflat_header_array = []\n",
    "\n",
    "for file in skyflat_filepath:\n",
    "\n",
    "    hdu = fits.open(file)\n",
    "    sflat_data_array.append(hdu[0].data.copy())\n",
    "    sflat_header_array.append(hdu[0].header.copy())\n",
    "    print(os.path.basename(file))\n",
    "\n",
    "hdu.close()    \n",
    "sflat_header_array[0]"
   ]
  },
  {
   "cell_type": "code",
   "execution_count": 40,
   "metadata": {},
   "outputs": [
    {
     "data": {
      "text/plain": [
       "0.06047339378818068"
      ]
     },
     "execution_count": 40,
     "metadata": {},
     "output_type": "execute_result"
    }
   ],
   "source": [
    "normi = normalize(sflat_data_array[20])\n",
    "np.max(normi)"
   ]
  },
  {
   "cell_type": "code",
   "execution_count": 43,
   "metadata": {},
   "outputs": [
    {
     "data": {
      "text/plain": [
       "1.0003635271274085"
      ]
     },
     "execution_count": 43,
     "metadata": {},
     "output_type": "execute_result"
    }
   ],
   "source": [
    "better_normi = sflat_data_array[20]/np.median(sflat_data_array[20])\n",
    "np.average(better_normi)"
   ]
  },
  {
   "cell_type": "markdown",
   "metadata": {},
   "source": [
    "# actual data for realz dog:"
   ]
  },
  {
   "cell_type": "code",
   "execution_count": 23,
   "metadata": {},
   "outputs": [],
   "source": [
    "datfilepath = glob.glob('./obsdata/night12/d*.fits')"
   ]
  },
  {
   "cell_type": "code",
   "execution_count": 28,
   "metadata": {},
   "outputs": [
    {
     "name": "stdout",
     "output_type": "stream",
     "text": [
      "d496_g_1.fits\n",
      "d496_g_2.fits\n",
      "d496_g_3.fits\n",
      "d496_g_4.fits\n",
      "d496_g_5.fits\n",
      "d496_g_6.fits\n",
      "d496_i_1.fits\n",
      "d496_i_2.fits\n",
      "d496_i_3.fits\n",
      "d496_i_4.fits\n",
      "d496_i_5.fits\n",
      "d496_i_6.fits\n",
      "d496_r_1.fits\n",
      "d496_r_2.fits\n",
      "d496_r_3.fits\n",
      "d496_r_4.fits\n",
      "d496_r_5.fits\n",
      "d496_r_6.fits\n",
      "d499_g_1.fits\n",
      "d499_g_2.fits\n",
      "d499_g_3.fits\n",
      "d499_g_4.fits\n",
      "d499_i_1.fits\n",
      "d499_i_2.fits\n",
      "d499_i_3.fits\n",
      "d499_i_4.fits\n",
      "d499_r_1.fits\n",
      "d499_r_2.fits\n",
      "d499_r_3.fits\n",
      "d499_r_4.fits\n",
      "d502_g_1.fits\n",
      "d502_g_2.fits\n",
      "d502_g_3.fits\n",
      "d502_g_4.fits\n",
      "d502_i_1.fits\n",
      "d502_i_2.fits\n",
      "d502_i_3.fits\n",
      "d502_i_4.fits\n",
      "d502_r_1.fits\n",
      "d502_r_2.fits\n",
      "d502_r_3.fits\n",
      "d502_r_4.fits\n",
      "d503_g_1.fits\n",
      "d503_g_2.fits\n",
      "d503_g_3.fits\n",
      "d503_g_4.fits\n",
      "d503_i_1.fits\n",
      "d503_i_2.fits\n",
      "d503_i_3.fits\n",
      "d503_i_4.fits\n",
      "d503_r_1.fits\n",
      "d503_r_2.fits\n",
      "d503_r_3.fits\n",
      "d503_r_4.fits\n",
      "d504_g_1.fits\n",
      "d504_g_2.fits\n",
      "d504_g_3.fits\n",
      "d504_g_4.fits\n",
      "d504_i_1.fits\n",
      "d504_i_2.fits\n",
      "d504_i_3.fits\n",
      "d504_i_4.fits\n",
      "d504_i_5.fits\n",
      "d504_r_1.fits\n",
      "d504_r_2.fits\n",
      "d504_r_3.fits\n",
      "d504_r_4.fits\n",
      "d506_g_1.fits\n",
      "d506_g_2.fits\n",
      "d506_g_3.fits\n",
      "d506_i_1.fits\n",
      "d506_i_2.fits\n",
      "d506_i_3.fits\n",
      "d506_i_4.fits\n",
      "d506_i_5.fits\n",
      "d506_r_1.fits\n",
      "d506_r_2.fits\n",
      "d506_r_3.fits\n",
      "d507_g_1.fits\n",
      "d507_g_2.fits\n",
      "d507_g_3.fits\n",
      "d507_g_4.fits\n",
      "d507_i_1.fits\n",
      "d507_i_2.fits\n",
      "d507_i_3.fits\n",
      "d507_i_4.fits\n",
      "d507_r_1.fits\n",
      "d507_r_2.fits\n",
      "d507_r_3.fits\n",
      "d507_r_4.fits\n"
     ]
    },
    {
     "data": {
      "text/plain": [
       "SIMPLE  =                    T / conforms to FITS standard                      \n",
       "BITPIX  =                   16 / array data type                                \n",
       "NAXIS   =                    2 / number of array dimensions                     \n",
       "NAXIS1  =                  512                                                  \n",
       "NAXIS2  =                  512                                                  \n",
       "DATE-OBS= '2018-06-29T07:18:09' / Time at start of exposure                     \n",
       "UT      = '07:18:09'           / UT time at start of exposure                   \n",
       "OBSERVAT= 'mro     '           / per the iraf list                              \n",
       "IMAGETYP= 'object  '                                                            \n",
       "FILTER  = 'g       '                                                            \n",
       "BINX    =                    2 / Horizontal Binning                             \n",
       "BINY    =                    2 / Vertical Binning                               \n",
       "EXPTIME =                 45.0 / Total exposure time                            \n",
       "ACQMODE = 'Single Scan'        / Acquisition mode                               \n",
       "READMODE= 'Image   '           / Readout mode                                   \n",
       "INSTRUME= 'evora   '           / Instrument used for imaging                    \n",
       "LONGITUD=        120.744466667 / Decimal degrees of MRO latitude                \n",
       "LATITUDE=              46.9528 / Decimal degress of MRO longitude               \n",
       "TEMP    =   -81.19400024414062 / Temperature                                    \n",
       "READTIME=    5.765968322753906 / Pixel readout time                             \n",
       "RA      =              18.7328 / Right Ascension                                \n",
       "DEC     =             0.532188 / Declination                                    \n",
       "EPOCH   =             2018.493 / Epoch for RA and Dec (years)                   \n",
       "ST      =        17.7424888889 / local sidereal time (hours)                    \n",
       "HA      =  -0.9903111110999987 / Hour Angle                                     \n",
       "ZD      =               46.419 / Zenith Angle                                   \n",
       "AIRMASS =    1.450580124791567 / Airmass (X = sec z)                            \n",
       "JD      = '2458298.80427'      / Julian Date                                    \n",
       "MJD     = '58298.3042708'      / Modified Julian Date                           \n",
       "BSCALE  =                    1                                                  \n",
       "BZERO   =                32768                                                  "
      ]
     },
     "execution_count": 28,
     "metadata": {},
     "output_type": "execute_result"
    }
   ],
   "source": [
    "data_array = []\n",
    "header_array = []\n",
    "\n",
    "for file in datfilepath[0:-3]:\n",
    "\n",
    "    hdu = fits.open(file)\n",
    "    data_array.append(hdu[0].data.copy())\n",
    "    header_array.append(hdu[0].header.copy())\n",
    "    print(os.path.basename(file))\n",
    "\n",
    "hdu.close()\n",
    "header_array[0]"
   ]
  },
  {
   "cell_type": "code",
   "execution_count": null,
   "metadata": {},
   "outputs": [],
   "source": []
  }
 ],
 "metadata": {
  "kernelspec": {
   "display_name": "Python 3",
   "language": "python",
   "name": "python3"
  },
  "language_info": {
   "codemirror_mode": {
    "name": "ipython",
    "version": 3
   },
   "file_extension": ".py",
   "mimetype": "text/x-python",
   "name": "python",
   "nbconvert_exporter": "python",
   "pygments_lexer": "ipython3",
   "version": "3.6.4"
  }
 },
 "nbformat": 4,
 "nbformat_minor": 2
}
